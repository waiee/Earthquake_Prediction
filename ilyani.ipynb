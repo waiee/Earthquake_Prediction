{
 "cells": [
  {
   "cell_type": "markdown",
   "metadata": {
    "id": "N3NATOdUWtK6"
   },
   "source": [
    "<img src=\"https://www.mmu.edu.my/fci/wp-content/uploads/2021/01/FCI_wNEW_MMU_LOGO.png\" style=\"height: 80px;\" align=left>  "
   ]
  },
  {
   "cell_type": "markdown",
   "metadata": {
    "id": "6RNqOK-ccT6i"
   },
   "source": [
    "\n",
    "\n",
    "---\n",
    "\n",
    "\n",
    "\n",
    "### For Google Colab Use Only\n",
    "Skip this section if you are using Jupyter Notebook etc."
   ]
  },
  {
   "cell_type": "code",
   "execution_count": 2,
   "metadata": {
    "id": "DE6XffsuclLs"
   },
   "outputs": [],
   "source": [
    "# from google.colab import drive\n",
    "# drive.mount('/content/drive')"
   ]
  },
  {
   "cell_type": "code",
   "execution_count": 3,
   "metadata": {
    "id": "Jcx6xDmdco5S"
   },
   "outputs": [],
   "source": [
    "# drive_path = '/content/drive/MyDrive/Trimester/2310/TDS3301/Tutorials/Tutorial 9/' #set your google drive path"
   ]
  },
  {
   "cell_type": "markdown",
   "metadata": {
    "id": "OwhnnLuhQ1K7"
   },
   "source": [
    "---"
   ]
  },
  {
   "cell_type": "markdown",
   "metadata": {
    "id": "Z_kpIbOOAJVP"
   },
   "source": [
    "# Artificial Neural Networks\n",
    "[Multi-layer Perceptron (MLP)](https://scikit-learn.org/stable/modules/neural_networks_supervised.html) is a supervised learning algorithm that can virtually learn any function by training on a dataset. Given a set of features / attributes and target, it can learn a non-linear function approximator for either classification or regression. It is different from logistic regression, in that between the input and the output layer, there can be one or more non-linear layers, called hidden layers.\n",
    "\n",
    "Some advantages of MLP are:\n",
    "* Capability to learn non-linear models.\n",
    "* Capability to learn models in real-time (on-line learning) using partial_fit.\n",
    "\n",
    "Some disadvantages of MLP include:\n",
    "* MLP with hidden layers have a non-convex loss function where there exists more than one local minimum. Therefore different random weight initializations can lead to different validation accuracy.\n",
    "* MLP requires tuning a number of hyperparameters such as the number of hidden neurons, layers, and iterations.\n",
    "* MLP is sensitive to feature scaling.\n",
    "\n",
    "There are various Python packages that provide methods to implement MLP, but for this lab, we will continue to focus on the popular scikit-learn package. <br>\n",
    "*Note: The neural network implementation from scikit-learn is not intended for large-scale applications and it does not offer no GPU support. For GPU-based implementations, there are other packages available, e.g. Tensorflow*<br>\n",
    "\n",
    "The following experiments lets you try out the simple MLP classifier on the `diabetes.csv` dataset.\n",
    "\n",
    "---\n",
    "\n",
    "## Data Preprocessing\n",
    "\n",
    "The following steps of preprocessing are replicated from the previous tutorial."
   ]
  },
  {
   "cell_type": "code",
   "execution_count": 32,
   "metadata": {
    "id": "_4i41P3k_JC7"
   },
   "outputs": [
    {
     "data": {
      "text/html": [
       "<div>\n",
       "<style scoped>\n",
       "    .dataframe tbody tr th:only-of-type {\n",
       "        vertical-align: middle;\n",
       "    }\n",
       "\n",
       "    .dataframe tbody tr th {\n",
       "        vertical-align: top;\n",
       "    }\n",
       "\n",
       "    .dataframe thead th {\n",
       "        text-align: right;\n",
       "    }\n",
       "</style>\n",
       "<table border=\"1\" class=\"dataframe\">\n",
       "  <thead>\n",
       "    <tr style=\"text-align: right;\">\n",
       "      <th></th>\n",
       "      <th>latitude</th>\n",
       "      <th>longitude</th>\n",
       "      <th>mag</th>\n",
       "      <th>gap</th>\n",
       "      <th>rms</th>\n",
       "      <th>horizontalError</th>\n",
       "      <th>nst</th>\n",
       "      <th>dmin</th>\n",
       "      <th>depth</th>\n",
       "      <th>magNst</th>\n",
       "      <th>label</th>\n",
       "    </tr>\n",
       "  </thead>\n",
       "  <tbody>\n",
       "    <tr>\n",
       "      <th>0</th>\n",
       "      <td>52.0999</td>\n",
       "      <td>178.5218</td>\n",
       "      <td>0.096154</td>\n",
       "      <td>0.383041</td>\n",
       "      <td>0.093407</td>\n",
       "      <td>0.091361</td>\n",
       "      <td>0.059166</td>\n",
       "      <td>0.263682</td>\n",
       "      <td>0.125824</td>\n",
       "      <td>0.018551</td>\n",
       "      <td>0</td>\n",
       "    </tr>\n",
       "    <tr>\n",
       "      <th>1</th>\n",
       "      <td>7.1397</td>\n",
       "      <td>126.7380</td>\n",
       "      <td>0.365385</td>\n",
       "      <td>0.280702</td>\n",
       "      <td>0.252747</td>\n",
       "      <td>0.061756</td>\n",
       "      <td>0.100572</td>\n",
       "      <td>0.267839</td>\n",
       "      <td>0.120600</td>\n",
       "      <td>0.051266</td>\n",
       "      <td>0</td>\n",
       "    </tr>\n",
       "    <tr>\n",
       "      <th>2</th>\n",
       "      <td>19.1631</td>\n",
       "      <td>-66.5251</td>\n",
       "      <td>0.255769</td>\n",
       "      <td>0.695906</td>\n",
       "      <td>0.115385</td>\n",
       "      <td>0.015591</td>\n",
       "      <td>0.079869</td>\n",
       "      <td>0.263356</td>\n",
       "      <td>0.039979</td>\n",
       "      <td>0.020808</td>\n",
       "      <td>1</td>\n",
       "    </tr>\n",
       "    <tr>\n",
       "      <th>3</th>\n",
       "      <td>-4.7803</td>\n",
       "      <td>102.7675</td>\n",
       "      <td>0.326923</td>\n",
       "      <td>0.523392</td>\n",
       "      <td>0.274725</td>\n",
       "      <td>0.109325</td>\n",
       "      <td>0.066067</td>\n",
       "      <td>0.257594</td>\n",
       "      <td>0.098096</td>\n",
       "      <td>0.008399</td>\n",
       "      <td>0</td>\n",
       "    </tr>\n",
       "    <tr>\n",
       "      <th>4</th>\n",
       "      <td>53.3965</td>\n",
       "      <td>-166.9417</td>\n",
       "      <td>0.076923</td>\n",
       "      <td>0.532164</td>\n",
       "      <td>0.164835</td>\n",
       "      <td>0.020609</td>\n",
       "      <td>0.070667</td>\n",
       "      <td>0.256754</td>\n",
       "      <td>0.019529</td>\n",
       "      <td>0.023064</td>\n",
       "      <td>1</td>\n",
       "    </tr>\n",
       "  </tbody>\n",
       "</table>\n",
       "</div>"
      ],
      "text/plain": [
       "   latitude  longitude       mag       gap       rms  horizontalError  \\\n",
       "0   52.0999   178.5218  0.096154  0.383041  0.093407         0.091361   \n",
       "1    7.1397   126.7380  0.365385  0.280702  0.252747         0.061756   \n",
       "2   19.1631   -66.5251  0.255769  0.695906  0.115385         0.015591   \n",
       "3   -4.7803   102.7675  0.326923  0.523392  0.274725         0.109325   \n",
       "4   53.3965  -166.9417  0.076923  0.532164  0.164835         0.020609   \n",
       "\n",
       "        nst      dmin     depth    magNst  label  \n",
       "0  0.059166  0.263682  0.125824  0.018551      0  \n",
       "1  0.100572  0.267839  0.120600  0.051266      0  \n",
       "2  0.079869  0.263356  0.039979  0.020808      1  \n",
       "3  0.066067  0.257594  0.098096  0.008399      0  \n",
       "4  0.070667  0.256754  0.019529  0.023064      1  "
      ]
     },
     "execution_count": 32,
     "metadata": {},
     "output_type": "execute_result"
    }
   ],
   "source": [
    "#import the relevant libraries\n",
    "import pandas as pd #data reading\n",
    "import matplotlib.pyplot as plt\n",
    "from sklearn.preprocessing import StandardScaler # label encoding\n",
    "from sklearn.model_selection import train_test_split # Import train_test_split function\n",
    "from sklearn.metrics import accuracy_score, confusion_matrix\n",
    "import seaborn as sns\n",
    "import numpy as np\n",
    "#code to ensure path\n",
    "# try:\n",
    "#   drive_path\n",
    "# except NameError:\n",
    "#   drive_path = ''\n",
    "\n",
    "# load diabetes.csv dataset\n",
    "newdf = pd.read_csv(\"finaldf.csv\")\n",
    "newdf.head()"
   ]
  },
  {
   "cell_type": "markdown",
   "metadata": {
    "id": "LKQYjhCOEnlZ"
   },
   "source": [
    "The `diabetes.csv` dataset contains fully numerical data. Therefore, we need to convert the target class attribute, which is `Outcome` into categorical/string type.<br>\n"
   ]
  },
  {
   "cell_type": "code",
   "execution_count": 33,
   "metadata": {
    "id": "U8maChL1FnIf"
   },
   "outputs": [
    {
     "data": {
      "text/plain": [
       "latitude           float64\n",
       "longitude          float64\n",
       "mag                float64\n",
       "gap                float64\n",
       "rms                float64\n",
       "horizontalError    float64\n",
       "nst                float64\n",
       "dmin               float64\n",
       "depth              float64\n",
       "magNst             float64\n",
       "label                int64\n",
       "dtype: object"
      ]
     },
     "execution_count": 33,
     "metadata": {},
     "output_type": "execute_result"
    }
   ],
   "source": [
    "# check the data types\n",
    "newdf.dtypes"
   ]
  },
  {
   "cell_type": "code",
   "execution_count": 22,
   "metadata": {},
   "outputs": [],
   "source": [
    "df = newdf.drop(['latitude','longitude'], axis=1)"
   ]
  },
  {
   "cell_type": "code",
   "execution_count": 96,
   "metadata": {},
   "outputs": [
    {
     "data": {
      "text/html": [
       "<div>\n",
       "<style scoped>\n",
       "    .dataframe tbody tr th:only-of-type {\n",
       "        vertical-align: middle;\n",
       "    }\n",
       "\n",
       "    .dataframe tbody tr th {\n",
       "        vertical-align: top;\n",
       "    }\n",
       "\n",
       "    .dataframe thead th {\n",
       "        text-align: right;\n",
       "    }\n",
       "</style>\n",
       "<table border=\"1\" class=\"dataframe\">\n",
       "  <thead>\n",
       "    <tr style=\"text-align: right;\">\n",
       "      <th></th>\n",
       "      <th>mag</th>\n",
       "      <th>gap</th>\n",
       "      <th>rms</th>\n",
       "      <th>horizontalError</th>\n",
       "      <th>nst</th>\n",
       "      <th>dmin</th>\n",
       "      <th>depth</th>\n",
       "      <th>magNst</th>\n",
       "      <th>label</th>\n",
       "    </tr>\n",
       "  </thead>\n",
       "  <tbody>\n",
       "    <tr>\n",
       "      <th>2</th>\n",
       "      <td>0.255769</td>\n",
       "      <td>0.695906</td>\n",
       "      <td>0.115385</td>\n",
       "      <td>0.015591</td>\n",
       "      <td>0.079869</td>\n",
       "      <td>0.263356</td>\n",
       "      <td>0.039979</td>\n",
       "      <td>0.020808</td>\n",
       "      <td>1</td>\n",
       "    </tr>\n",
       "    <tr>\n",
       "      <th>4</th>\n",
       "      <td>0.076923</td>\n",
       "      <td>0.532164</td>\n",
       "      <td>0.164835</td>\n",
       "      <td>0.020609</td>\n",
       "      <td>0.070667</td>\n",
       "      <td>0.256754</td>\n",
       "      <td>0.019529</td>\n",
       "      <td>0.023064</td>\n",
       "      <td>1</td>\n",
       "    </tr>\n",
       "    <tr>\n",
       "      <th>5</th>\n",
       "      <td>0.038462</td>\n",
       "      <td>0.347953</td>\n",
       "      <td>0.093407</td>\n",
       "      <td>0.034258</td>\n",
       "      <td>0.070667</td>\n",
       "      <td>0.251830</td>\n",
       "      <td>0.060065</td>\n",
       "      <td>0.043370</td>\n",
       "      <td>1</td>\n",
       "    </tr>\n",
       "    <tr>\n",
       "      <th>6</th>\n",
       "      <td>0.288462</td>\n",
       "      <td>0.230994</td>\n",
       "      <td>0.076923</td>\n",
       "      <td>0.135418</td>\n",
       "      <td>0.061466</td>\n",
       "      <td>0.295832</td>\n",
       "      <td>0.818512</td>\n",
       "      <td>0.009527</td>\n",
       "      <td>1</td>\n",
       "    </tr>\n",
       "    <tr>\n",
       "      <th>7</th>\n",
       "      <td>0.288462</td>\n",
       "      <td>0.213450</td>\n",
       "      <td>0.170330</td>\n",
       "      <td>0.105211</td>\n",
       "      <td>0.118974</td>\n",
       "      <td>0.301169</td>\n",
       "      <td>0.378085</td>\n",
       "      <td>0.041113</td>\n",
       "      <td>1</td>\n",
       "    </tr>\n",
       "    <tr>\n",
       "      <th>...</th>\n",
       "      <td>...</td>\n",
       "      <td>...</td>\n",
       "      <td>...</td>\n",
       "      <td>...</td>\n",
       "      <td>...</td>\n",
       "      <td>...</td>\n",
       "      <td>...</td>\n",
       "      <td>...</td>\n",
       "      <td>...</td>\n",
       "    </tr>\n",
       "    <tr>\n",
       "      <th>26409</th>\n",
       "      <td>0.423077</td>\n",
       "      <td>0.371345</td>\n",
       "      <td>0.653846</td>\n",
       "      <td>0.065971</td>\n",
       "      <td>0.197185</td>\n",
       "      <td>0.264389</td>\n",
       "      <td>0.104366</td>\n",
       "      <td>0.307346</td>\n",
       "      <td>1</td>\n",
       "    </tr>\n",
       "    <tr>\n",
       "      <th>26413</th>\n",
       "      <td>0.365385</td>\n",
       "      <td>0.277778</td>\n",
       "      <td>0.543956</td>\n",
       "      <td>0.146558</td>\n",
       "      <td>0.121275</td>\n",
       "      <td>0.295272</td>\n",
       "      <td>0.813206</td>\n",
       "      <td>0.039985</td>\n",
       "      <td>1</td>\n",
       "    </tr>\n",
       "    <tr>\n",
       "      <th>26414</th>\n",
       "      <td>0.442308</td>\n",
       "      <td>0.198830</td>\n",
       "      <td>0.307692</td>\n",
       "      <td>0.125684</td>\n",
       "      <td>0.132776</td>\n",
       "      <td>0.333452</td>\n",
       "      <td>0.134132</td>\n",
       "      <td>0.038857</td>\n",
       "      <td>1</td>\n",
       "    </tr>\n",
       "    <tr>\n",
       "      <th>26418</th>\n",
       "      <td>0.365385</td>\n",
       "      <td>0.181287</td>\n",
       "      <td>0.219780</td>\n",
       "      <td>0.149669</td>\n",
       "      <td>0.093671</td>\n",
       "      <td>0.288019</td>\n",
       "      <td>0.568264</td>\n",
       "      <td>0.047882</td>\n",
       "      <td>1</td>\n",
       "    </tr>\n",
       "    <tr>\n",
       "      <th>26420</th>\n",
       "      <td>0.403846</td>\n",
       "      <td>0.213450</td>\n",
       "      <td>0.219780</td>\n",
       "      <td>0.117253</td>\n",
       "      <td>0.091370</td>\n",
       "      <td>0.265068</td>\n",
       "      <td>0.228817</td>\n",
       "      <td>0.033217</td>\n",
       "      <td>1</td>\n",
       "    </tr>\n",
       "  </tbody>\n",
       "</table>\n",
       "<p>14333 rows × 9 columns</p>\n",
       "</div>"
      ],
      "text/plain": [
       "            mag       gap       rms  horizontalError       nst      dmin  \\\n",
       "2      0.255769  0.695906  0.115385         0.015591  0.079869  0.263356   \n",
       "4      0.076923  0.532164  0.164835         0.020609  0.070667  0.256754   \n",
       "5      0.038462  0.347953  0.093407         0.034258  0.070667  0.251830   \n",
       "6      0.288462  0.230994  0.076923         0.135418  0.061466  0.295832   \n",
       "7      0.288462  0.213450  0.170330         0.105211  0.118974  0.301169   \n",
       "...         ...       ...       ...              ...       ...       ...   \n",
       "26409  0.423077  0.371345  0.653846         0.065971  0.197185  0.264389   \n",
       "26413  0.365385  0.277778  0.543956         0.146558  0.121275  0.295272   \n",
       "26414  0.442308  0.198830  0.307692         0.125684  0.132776  0.333452   \n",
       "26418  0.365385  0.181287  0.219780         0.149669  0.093671  0.288019   \n",
       "26420  0.403846  0.213450  0.219780         0.117253  0.091370  0.265068   \n",
       "\n",
       "          depth    magNst label  \n",
       "2      0.039979  0.020808     1  \n",
       "4      0.019529  0.023064     1  \n",
       "5      0.060065  0.043370     1  \n",
       "6      0.818512  0.009527     1  \n",
       "7      0.378085  0.041113     1  \n",
       "...         ...       ...   ...  \n",
       "26409  0.104366  0.307346     1  \n",
       "26413  0.813206  0.039985     1  \n",
       "26414  0.134132  0.038857     1  \n",
       "26418  0.568264  0.047882     1  \n",
       "26420  0.228817  0.033217     1  \n",
       "\n",
       "[14333 rows x 9 columns]"
      ]
     },
     "execution_count": 96,
     "metadata": {},
     "output_type": "execute_result"
    }
   ],
   "source": [
    "df = df[df['label']==1]\n",
    "df"
   ]
  },
  {
   "cell_type": "markdown",
   "metadata": {
    "id": "yiKG4c_mHZZr"
   },
   "source": [
    "Then, we can split the dataset attributes and class labels into their own variables, and then create the training, validation, and testing sets. <br>\n",
    "*Note*: The `train_test_split` function does not provide a direct train/val/test split, so we can split the dataset twice to create the 3 sets."
   ]
  },
  {
   "cell_type": "raw",
   "metadata": {
    "id": "vyUDgBUzHKhd"
   },
   "source": [
    "X = df.drop('mag',axis=1) #Features\n",
    "y = df['mag'] # Target variable\n",
    "print(X.shape)\n",
    "print(y.shape)"
   ]
  },
  {
   "cell_type": "code",
   "execution_count": 98,
   "metadata": {
    "id": "diMdTDQKIG9T"
   },
   "outputs": [
    {
     "name": "stdout",
     "output_type": "stream",
     "text": [
      "Training set:  (22932,)\n",
      "Testing set:  (5734,)\n"
     ]
    }
   ],
   "source": [
    "#First split to get 20% as test set\n",
    "X_train, X_test, y_train, y_test = train_test_split(X, y, test_size=0.2, random_state=2)\n",
    "\n",
    "print('Training set: ', y_train.shape)\n",
    "print('Testing set: ', y_test.shape)\n"
   ]
  },
  {
   "cell_type": "markdown",
   "metadata": {
    "id": "dyk5Jhd5T-HF"
   },
   "source": [
    "Normalize the training data to ensure no bias in the features during model training."
   ]
  },
  {
   "cell_type": "code",
   "execution_count": 99,
   "metadata": {},
   "outputs": [
    {
     "data": {
      "text/html": [
       "<style>#sk-container-id-6 {color: black;background-color: white;}#sk-container-id-6 pre{padding: 0;}#sk-container-id-6 div.sk-toggleable {background-color: white;}#sk-container-id-6 label.sk-toggleable__label {cursor: pointer;display: block;width: 100%;margin-bottom: 0;padding: 0.3em;box-sizing: border-box;text-align: center;}#sk-container-id-6 label.sk-toggleable__label-arrow:before {content: \"▸\";float: left;margin-right: 0.25em;color: #696969;}#sk-container-id-6 label.sk-toggleable__label-arrow:hover:before {color: black;}#sk-container-id-6 div.sk-estimator:hover label.sk-toggleable__label-arrow:before {color: black;}#sk-container-id-6 div.sk-toggleable__content {max-height: 0;max-width: 0;overflow: hidden;text-align: left;background-color: #f0f8ff;}#sk-container-id-6 div.sk-toggleable__content pre {margin: 0.2em;color: black;border-radius: 0.25em;background-color: #f0f8ff;}#sk-container-id-6 input.sk-toggleable__control:checked~div.sk-toggleable__content {max-height: 200px;max-width: 100%;overflow: auto;}#sk-container-id-6 input.sk-toggleable__control:checked~label.sk-toggleable__label-arrow:before {content: \"▾\";}#sk-container-id-6 div.sk-estimator input.sk-toggleable__control:checked~label.sk-toggleable__label {background-color: #d4ebff;}#sk-container-id-6 div.sk-label input.sk-toggleable__control:checked~label.sk-toggleable__label {background-color: #d4ebff;}#sk-container-id-6 input.sk-hidden--visually {border: 0;clip: rect(1px 1px 1px 1px);clip: rect(1px, 1px, 1px, 1px);height: 1px;margin: -1px;overflow: hidden;padding: 0;position: absolute;width: 1px;}#sk-container-id-6 div.sk-estimator {font-family: monospace;background-color: #f0f8ff;border: 1px dotted black;border-radius: 0.25em;box-sizing: border-box;margin-bottom: 0.5em;}#sk-container-id-6 div.sk-estimator:hover {background-color: #d4ebff;}#sk-container-id-6 div.sk-parallel-item::after {content: \"\";width: 100%;border-bottom: 1px solid gray;flex-grow: 1;}#sk-container-id-6 div.sk-label:hover label.sk-toggleable__label {background-color: #d4ebff;}#sk-container-id-6 div.sk-serial::before {content: \"\";position: absolute;border-left: 1px solid gray;box-sizing: border-box;top: 0;bottom: 0;left: 50%;z-index: 0;}#sk-container-id-6 div.sk-serial {display: flex;flex-direction: column;align-items: center;background-color: white;padding-right: 0.2em;padding-left: 0.2em;position: relative;}#sk-container-id-6 div.sk-item {position: relative;z-index: 1;}#sk-container-id-6 div.sk-parallel {display: flex;align-items: stretch;justify-content: center;background-color: white;position: relative;}#sk-container-id-6 div.sk-item::before, #sk-container-id-6 div.sk-parallel-item::before {content: \"\";position: absolute;border-left: 1px solid gray;box-sizing: border-box;top: 0;bottom: 0;left: 50%;z-index: -1;}#sk-container-id-6 div.sk-parallel-item {display: flex;flex-direction: column;z-index: 1;position: relative;background-color: white;}#sk-container-id-6 div.sk-parallel-item:first-child::after {align-self: flex-end;width: 50%;}#sk-container-id-6 div.sk-parallel-item:last-child::after {align-self: flex-start;width: 50%;}#sk-container-id-6 div.sk-parallel-item:only-child::after {width: 0;}#sk-container-id-6 div.sk-dashed-wrapped {border: 1px dashed gray;margin: 0 0.4em 0.5em 0.4em;box-sizing: border-box;padding-bottom: 0.4em;background-color: white;}#sk-container-id-6 div.sk-label label {font-family: monospace;font-weight: bold;display: inline-block;line-height: 1.2em;}#sk-container-id-6 div.sk-label-container {text-align: center;}#sk-container-id-6 div.sk-container {/* jupyter's `normalize.less` sets `[hidden] { display: none; }` but bootstrap.min.css set `[hidden] { display: none !important; }` so we also need the `!important` here to be able to override the default hidden behavior on the sphinx rendered scikit-learn.org. See: https://github.com/scikit-learn/scikit-learn/issues/21755 */display: inline-block !important;position: relative;}#sk-container-id-6 div.sk-text-repr-fallback {display: none;}</style><div id=\"sk-container-id-6\" class=\"sk-top-container\"><div class=\"sk-text-repr-fallback\"><pre>RandomForestRegressor(oob_score=True)</pre><b>In a Jupyter environment, please rerun this cell to show the HTML representation or trust the notebook. <br />On GitHub, the HTML representation is unable to render, please try loading this page with nbviewer.org.</b></div><div class=\"sk-container\" hidden><div class=\"sk-item\"><div class=\"sk-estimator sk-toggleable\"><input class=\"sk-toggleable__control sk-hidden--visually\" id=\"sk-estimator-id-6\" type=\"checkbox\" checked><label for=\"sk-estimator-id-6\" class=\"sk-toggleable__label sk-toggleable__label-arrow\">RandomForestRegressor</label><div class=\"sk-toggleable__content\"><pre>RandomForestRegressor(oob_score=True)</pre></div></div></div></div></div>"
      ],
      "text/plain": [
       "RandomForestRegressor(oob_score=True)"
      ]
     },
     "execution_count": 99,
     "metadata": {},
     "output_type": "execute_result"
    }
   ],
   "source": [
    "from sklearn.ensemble import RandomForestRegressor\n",
    "rfr = RandomForestRegressor(oob_score=True)\n",
    "rfr.fit(X_train,y_train)"
   ]
  },
  {
   "cell_type": "code",
   "execution_count": 100,
   "metadata": {},
   "outputs": [
    {
     "data": {
      "text/html": [
       "<div>\n",
       "<style scoped>\n",
       "    .dataframe tbody tr th:only-of-type {\n",
       "        vertical-align: middle;\n",
       "    }\n",
       "\n",
       "    .dataframe tbody tr th {\n",
       "        vertical-align: top;\n",
       "    }\n",
       "\n",
       "    .dataframe thead th {\n",
       "        text-align: right;\n",
       "    }\n",
       "</style>\n",
       "<table border=\"1\" class=\"dataframe\">\n",
       "  <thead>\n",
       "    <tr style=\"text-align: right;\">\n",
       "      <th></th>\n",
       "      <th>Actual</th>\n",
       "      <th>Predicted</th>\n",
       "    </tr>\n",
       "  </thead>\n",
       "  <tbody>\n",
       "    <tr>\n",
       "      <th>5990</th>\n",
       "      <td>0.134615</td>\n",
       "      <td>0.143269</td>\n",
       "    </tr>\n",
       "    <tr>\n",
       "      <th>19383</th>\n",
       "      <td>0.365385</td>\n",
       "      <td>0.365132</td>\n",
       "    </tr>\n",
       "    <tr>\n",
       "      <th>17486</th>\n",
       "      <td>0.365385</td>\n",
       "      <td>0.357218</td>\n",
       "    </tr>\n",
       "    <tr>\n",
       "      <th>24384</th>\n",
       "      <td>0.788462</td>\n",
       "      <td>0.686946</td>\n",
       "    </tr>\n",
       "    <tr>\n",
       "      <th>10326</th>\n",
       "      <td>0.365385</td>\n",
       "      <td>0.378791</td>\n",
       "    </tr>\n",
       "    <tr>\n",
       "      <th>...</th>\n",
       "      <td>...</td>\n",
       "      <td>...</td>\n",
       "    </tr>\n",
       "    <tr>\n",
       "      <th>7688</th>\n",
       "      <td>0.096154</td>\n",
       "      <td>0.060769</td>\n",
       "    </tr>\n",
       "    <tr>\n",
       "      <th>4291</th>\n",
       "      <td>0.346154</td>\n",
       "      <td>0.343696</td>\n",
       "    </tr>\n",
       "    <tr>\n",
       "      <th>16809</th>\n",
       "      <td>0.000000</td>\n",
       "      <td>0.066115</td>\n",
       "    </tr>\n",
       "    <tr>\n",
       "      <th>12181</th>\n",
       "      <td>0.000000</td>\n",
       "      <td>0.001346</td>\n",
       "    </tr>\n",
       "    <tr>\n",
       "      <th>13385</th>\n",
       "      <td>0.134615</td>\n",
       "      <td>0.232885</td>\n",
       "    </tr>\n",
       "  </tbody>\n",
       "</table>\n",
       "<p>5734 rows × 2 columns</p>\n",
       "</div>"
      ],
      "text/plain": [
       "         Actual  Predicted\n",
       "5990   0.134615   0.143269\n",
       "19383  0.365385   0.365132\n",
       "17486  0.365385   0.357218\n",
       "24384  0.788462   0.686946\n",
       "10326  0.365385   0.378791\n",
       "...         ...        ...\n",
       "7688   0.096154   0.060769\n",
       "4291   0.346154   0.343696\n",
       "16809  0.000000   0.066115\n",
       "12181  0.000000   0.001346\n",
       "13385  0.134615   0.232885\n",
       "\n",
       "[5734 rows x 2 columns]"
      ]
     },
     "execution_count": 100,
     "metadata": {},
     "output_type": "execute_result"
    }
   ],
   "source": [
    "y_pred = rf_model.predict(X_test)\n",
    "pred_mag = pd.DataFrame({'Actual':y_test, 'Predicted':y_pred})\n",
    "pred_mag"
   ]
  },
  {
   "cell_type": "code",
   "execution_count": 101,
   "metadata": {},
   "outputs": [
    {
     "name": "stdout",
     "output_type": "stream",
     "text": [
      "Mean Absolute Error:  0.03496729222718916\n",
      "Mean Squared Error:  0.0027312593229721124\n",
      "R-squared :  0.8801763787938929\n"
     ]
    }
   ],
   "source": [
    "from sklearn.metrics import mean_absolute_error, mean_squared_error, r2_score\n",
    "mae = mean_absolute_error(y_test,y_pred)\n",
    "mse = mean_squared_error(y_test,y_pred)\n",
    "r2 = r2_score(y_test, y_pred)\n",
    "\n",
    "print('Mean Absolute Error: ', mae)\n",
    "print('Mean Squared Error: ', mse)\n",
    "print('R-squared : ', r2)"
   ]
  },
  {
   "cell_type": "code",
   "execution_count": 102,
   "metadata": {},
   "outputs": [
    {
     "name": "stdout",
     "output_type": "stream",
     "text": [
      "Cross-Validation Scores: 0.8454834775021192\n",
      "Mean Score: 0.7964915000379698\n",
      "Standard Deviation: 0.07323569710426191\n"
     ]
    }
   ],
   "source": [
    "from sklearn.model_selection import cross_val_score\n",
    "scores = cross_val_score(rfr, X, y, cv=5)  \n",
    "print(\"Cross-Validation Scores:\", max(scores))\n",
    "print(\"Mean Score:\", scores.mean())\n",
    "print(\"Standard Deviation:\", scores.std())"
   ]
  },
  {
   "cell_type": "markdown",
   "metadata": {},
   "source": [
    "## RandomizedSearchCV"
   ]
  },
  {
   "cell_type": "code",
   "execution_count": 104,
   "metadata": {},
   "outputs": [
    {
     "name": "stdout",
     "output_type": "stream",
     "text": [
      "RandomForestRegressor(max_depth=10, max_features='sqrt', n_estimators=150)\n"
     ]
    }
   ],
   "source": [
    "from sklearn.model_selection import RandomizedSearchCV\n",
    "\n",
    "param_grid = {\n",
    "    'n_estimators': [25, 50, 100, 150, 200, 300],\n",
    "    'max_features': ['sqrt', 'log2', None],\n",
    "    'max_depth': [None, 5, 10, 15, 20,30],\n",
    "    'max_leaf_nodes': [None, 5, 10, 15, 20],\n",
    "}\n",
    "\n",
    "random_search = RandomizedSearchCV(RandomForestRegressor(),\n",
    "                                   param_grid)\n",
    "random_search.fit(X_train, y_train)\n",
    "print(random_search.best_estimator_)"
   ]
  },
  {
   "cell_type": "code",
   "execution_count": 105,
   "metadata": {},
   "outputs": [
    {
     "data": {
      "text/html": [
       "<style>#sk-container-id-7 {color: black;background-color: white;}#sk-container-id-7 pre{padding: 0;}#sk-container-id-7 div.sk-toggleable {background-color: white;}#sk-container-id-7 label.sk-toggleable__label {cursor: pointer;display: block;width: 100%;margin-bottom: 0;padding: 0.3em;box-sizing: border-box;text-align: center;}#sk-container-id-7 label.sk-toggleable__label-arrow:before {content: \"▸\";float: left;margin-right: 0.25em;color: #696969;}#sk-container-id-7 label.sk-toggleable__label-arrow:hover:before {color: black;}#sk-container-id-7 div.sk-estimator:hover label.sk-toggleable__label-arrow:before {color: black;}#sk-container-id-7 div.sk-toggleable__content {max-height: 0;max-width: 0;overflow: hidden;text-align: left;background-color: #f0f8ff;}#sk-container-id-7 div.sk-toggleable__content pre {margin: 0.2em;color: black;border-radius: 0.25em;background-color: #f0f8ff;}#sk-container-id-7 input.sk-toggleable__control:checked~div.sk-toggleable__content {max-height: 200px;max-width: 100%;overflow: auto;}#sk-container-id-7 input.sk-toggleable__control:checked~label.sk-toggleable__label-arrow:before {content: \"▾\";}#sk-container-id-7 div.sk-estimator input.sk-toggleable__control:checked~label.sk-toggleable__label {background-color: #d4ebff;}#sk-container-id-7 div.sk-label input.sk-toggleable__control:checked~label.sk-toggleable__label {background-color: #d4ebff;}#sk-container-id-7 input.sk-hidden--visually {border: 0;clip: rect(1px 1px 1px 1px);clip: rect(1px, 1px, 1px, 1px);height: 1px;margin: -1px;overflow: hidden;padding: 0;position: absolute;width: 1px;}#sk-container-id-7 div.sk-estimator {font-family: monospace;background-color: #f0f8ff;border: 1px dotted black;border-radius: 0.25em;box-sizing: border-box;margin-bottom: 0.5em;}#sk-container-id-7 div.sk-estimator:hover {background-color: #d4ebff;}#sk-container-id-7 div.sk-parallel-item::after {content: \"\";width: 100%;border-bottom: 1px solid gray;flex-grow: 1;}#sk-container-id-7 div.sk-label:hover label.sk-toggleable__label {background-color: #d4ebff;}#sk-container-id-7 div.sk-serial::before {content: \"\";position: absolute;border-left: 1px solid gray;box-sizing: border-box;top: 0;bottom: 0;left: 50%;z-index: 0;}#sk-container-id-7 div.sk-serial {display: flex;flex-direction: column;align-items: center;background-color: white;padding-right: 0.2em;padding-left: 0.2em;position: relative;}#sk-container-id-7 div.sk-item {position: relative;z-index: 1;}#sk-container-id-7 div.sk-parallel {display: flex;align-items: stretch;justify-content: center;background-color: white;position: relative;}#sk-container-id-7 div.sk-item::before, #sk-container-id-7 div.sk-parallel-item::before {content: \"\";position: absolute;border-left: 1px solid gray;box-sizing: border-box;top: 0;bottom: 0;left: 50%;z-index: -1;}#sk-container-id-7 div.sk-parallel-item {display: flex;flex-direction: column;z-index: 1;position: relative;background-color: white;}#sk-container-id-7 div.sk-parallel-item:first-child::after {align-self: flex-end;width: 50%;}#sk-container-id-7 div.sk-parallel-item:last-child::after {align-self: flex-start;width: 50%;}#sk-container-id-7 div.sk-parallel-item:only-child::after {width: 0;}#sk-container-id-7 div.sk-dashed-wrapped {border: 1px dashed gray;margin: 0 0.4em 0.5em 0.4em;box-sizing: border-box;padding-bottom: 0.4em;background-color: white;}#sk-container-id-7 div.sk-label label {font-family: monospace;font-weight: bold;display: inline-block;line-height: 1.2em;}#sk-container-id-7 div.sk-label-container {text-align: center;}#sk-container-id-7 div.sk-container {/* jupyter's `normalize.less` sets `[hidden] { display: none; }` but bootstrap.min.css set `[hidden] { display: none !important; }` so we also need the `!important` here to be able to override the default hidden behavior on the sphinx rendered scikit-learn.org. See: https://github.com/scikit-learn/scikit-learn/issues/21755 */display: inline-block !important;position: relative;}#sk-container-id-7 div.sk-text-repr-fallback {display: none;}</style><div id=\"sk-container-id-7\" class=\"sk-top-container\"><div class=\"sk-text-repr-fallback\"><pre>RandomForestRegressor(max_depth=10, max_features=&#x27;sqrt&#x27;, n_estimators=150)</pre><b>In a Jupyter environment, please rerun this cell to show the HTML representation or trust the notebook. <br />On GitHub, the HTML representation is unable to render, please try loading this page with nbviewer.org.</b></div><div class=\"sk-container\" hidden><div class=\"sk-item\"><div class=\"sk-estimator sk-toggleable\"><input class=\"sk-toggleable__control sk-hidden--visually\" id=\"sk-estimator-id-7\" type=\"checkbox\" checked><label for=\"sk-estimator-id-7\" class=\"sk-toggleable__label sk-toggleable__label-arrow\">RandomForestRegressor</label><div class=\"sk-toggleable__content\"><pre>RandomForestRegressor(max_depth=10, max_features=&#x27;sqrt&#x27;, n_estimators=150)</pre></div></div></div></div></div>"
      ],
      "text/plain": [
       "RandomForestRegressor(max_depth=10, max_features='sqrt', n_estimators=150)"
      ]
     },
     "execution_count": 105,
     "metadata": {},
     "output_type": "execute_result"
    }
   ],
   "source": [
    "best_estimator = random_search.best_estimator_\n",
    "\n",
    "rfr1 = RandomForestRegressor(**best_estimator.get_params())\n",
    "rfr1.fit(X_train, y_train)"
   ]
  },
  {
   "cell_type": "code",
   "execution_count": 106,
   "metadata": {},
   "outputs": [
    {
     "data": {
      "text/html": [
       "<div>\n",
       "<style scoped>\n",
       "    .dataframe tbody tr th:only-of-type {\n",
       "        vertical-align: middle;\n",
       "    }\n",
       "\n",
       "    .dataframe tbody tr th {\n",
       "        vertical-align: top;\n",
       "    }\n",
       "\n",
       "    .dataframe thead th {\n",
       "        text-align: right;\n",
       "    }\n",
       "</style>\n",
       "<table border=\"1\" class=\"dataframe\">\n",
       "  <thead>\n",
       "    <tr style=\"text-align: right;\">\n",
       "      <th></th>\n",
       "      <th>Actual</th>\n",
       "      <th>Predicted</th>\n",
       "    </tr>\n",
       "  </thead>\n",
       "  <tbody>\n",
       "    <tr>\n",
       "      <th>5990</th>\n",
       "      <td>0.134615</td>\n",
       "      <td>0.112662</td>\n",
       "    </tr>\n",
       "    <tr>\n",
       "      <th>19383</th>\n",
       "      <td>0.365385</td>\n",
       "      <td>0.355413</td>\n",
       "    </tr>\n",
       "    <tr>\n",
       "      <th>17486</th>\n",
       "      <td>0.365385</td>\n",
       "      <td>0.348682</td>\n",
       "    </tr>\n",
       "    <tr>\n",
       "      <th>24384</th>\n",
       "      <td>0.788462</td>\n",
       "      <td>0.607810</td>\n",
       "    </tr>\n",
       "    <tr>\n",
       "      <th>10326</th>\n",
       "      <td>0.365385</td>\n",
       "      <td>0.363118</td>\n",
       "    </tr>\n",
       "    <tr>\n",
       "      <th>...</th>\n",
       "      <td>...</td>\n",
       "      <td>...</td>\n",
       "    </tr>\n",
       "    <tr>\n",
       "      <th>7688</th>\n",
       "      <td>0.096154</td>\n",
       "      <td>0.098797</td>\n",
       "    </tr>\n",
       "    <tr>\n",
       "      <th>4291</th>\n",
       "      <td>0.346154</td>\n",
       "      <td>0.341439</td>\n",
       "    </tr>\n",
       "    <tr>\n",
       "      <th>16809</th>\n",
       "      <td>0.000000</td>\n",
       "      <td>0.090304</td>\n",
       "    </tr>\n",
       "    <tr>\n",
       "      <th>12181</th>\n",
       "      <td>0.000000</td>\n",
       "      <td>0.010924</td>\n",
       "    </tr>\n",
       "    <tr>\n",
       "      <th>13385</th>\n",
       "      <td>0.134615</td>\n",
       "      <td>0.210770</td>\n",
       "    </tr>\n",
       "  </tbody>\n",
       "</table>\n",
       "<p>5734 rows × 2 columns</p>\n",
       "</div>"
      ],
      "text/plain": [
       "         Actual  Predicted\n",
       "5990   0.134615   0.112662\n",
       "19383  0.365385   0.355413\n",
       "17486  0.365385   0.348682\n",
       "24384  0.788462   0.607810\n",
       "10326  0.365385   0.363118\n",
       "...         ...        ...\n",
       "7688   0.096154   0.098797\n",
       "4291   0.346154   0.341439\n",
       "16809  0.000000   0.090304\n",
       "12181  0.000000   0.010924\n",
       "13385  0.134615   0.210770\n",
       "\n",
       "[5734 rows x 2 columns]"
      ]
     },
     "execution_count": 106,
     "metadata": {},
     "output_type": "execute_result"
    }
   ],
   "source": [
    "y_pred_rs = rfr1.predict(X_test)\n",
    "pred_mag_rs = pd.DataFrame({'Actual':y_test, 'Predicted':y_pred_rs})\n",
    "pred_mag_rs"
   ]
  },
  {
   "cell_type": "code",
   "execution_count": 110,
   "metadata": {},
   "outputs": [
    {
     "name": "stdout",
     "output_type": "stream",
     "text": [
      "Mean Absolute Error:  0.03496729222718916\n",
      "Mean Squared Error:  0.0027312593229721124\n",
      "R-squared :  0.8801763787938929\n"
     ]
    }
   ],
   "source": [
    "mae_rs = mean_absolute_error(y_test,y_pred)\n",
    "mse_rs = mean_squared_error(y_test,y_pred)\n",
    "r2_rs = r2_score(y_test, y_pred)\n",
    "\n",
    "print('Mean Absolute Error: ', mae_rs)\n",
    "print('Mean Squared Error: ', mse_rs)\n",
    "print('R-squared : ', r2_rs)"
   ]
  },
  {
   "cell_type": "code",
   "execution_count": 107,
   "metadata": {},
   "outputs": [
    {
     "name": "stdout",
     "output_type": "stream",
     "text": [
      "Cross-Validation Scores: 0.8294666804532921\n",
      "Mean Score: 0.7513903462912983\n",
      "Standard Deviation: 0.11324135897120724\n"
     ]
    }
   ],
   "source": [
    "from sklearn.model_selection import cross_val_score\n",
    "scores1 = cross_val_score(rfr1, X, y, cv=5)  \n",
    "print(\"Cross-Validation Scores:\", max(scores1))\n",
    "print(\"Mean Score:\", scores1.mean())\n",
    "print(\"Standard Deviation:\", scores1.std())"
   ]
  },
  {
   "cell_type": "code",
   "execution_count": null,
   "metadata": {
    "id": "_ZY2yxzdKvAO"
   },
   "outputs": [
    {
     "name": "stdout",
     "output_type": "stream",
     "text": [
      "Fitting 5 folds for each of 120 candidates, totalling 600 fits\n"
     ]
    }
   ],
   "source": [
    "from sklearn.model_selection import GridSearchCV\n",
    "\n",
    "param_grid = {\n",
    "    'n_estimators': [25, 50, 100],\n",
    "    'max_features': ['log2', None],\n",
    "    'max_depth': [5, 10, 15, 20],\n",
    "    'max_leaf_nodes': [None, 5, 10, 15, 20],\n",
    "}\n",
    "\n",
    "rf_grid = GridSearchCV(estimator = RandomForestRegressor(), param_grid = param_grid,verbose=2, n_jobs = 4)\n",
    "rf_grid.fit(X_train, y_train)\n",
    "print(rf_grid.best_estimator_)"
   ]
  }
 ],
 "metadata": {
  "colab": {
   "authorship_tag": "ABX9TyMQaNhncBPbjvCkXSYe+Ar7",
   "provenance": []
  },
  "kernelspec": {
   "display_name": "Python 3 (ipykernel)",
   "language": "python",
   "name": "python3"
  },
  "language_info": {
   "codemirror_mode": {
    "name": "ipython",
    "version": 3
   },
   "file_extension": ".py",
   "mimetype": "text/x-python",
   "name": "python",
   "nbconvert_exporter": "python",
   "pygments_lexer": "ipython3",
   "version": "3.11.5"
  }
 },
 "nbformat": 4,
 "nbformat_minor": 4
}
